{
 "cells": [
  {
   "cell_type": "code",
   "execution_count": 1,
   "metadata": {
    "collapsed": false
   },
   "outputs": [
    {
     "data": {
      "text/plain": [
       "u'C:\\\\rahuketu\\\\programming\\\\Learning_C'"
      ]
     },
     "execution_count": 1,
     "metadata": {},
     "output_type": "execute_result"
    }
   ],
   "source": [
    "pwd"
   ]
  },
  {
   "cell_type": "markdown",
   "metadata": {},
   "source": [
    "#Check if csc compiler path has been setup\n"
   ]
  },
  {
   "cell_type": "code",
   "execution_count": 2,
   "metadata": {
    "collapsed": false
   },
   "outputs": [
    {
     "name": "stdout",
     "output_type": "stream",
     "text": [
      "Microsoft (R) Visual C# Compiler version 4.6.0057.0\n",
      "\n",
      "for Microsoft (R) .NET Framework 4.5\n",
      "Copyright (C) Microsoft Corporation. All rights reserved.\n",
      "\n",
      "warning CS2008: No source files specified\n",
      "error CS1562: Outputs without source must have the /out option specified\n"
     ]
    }
   ],
   "source": [
    "ip = get_ipython()\n",
    "ip.system(\"csc\")"
   ]
  },
  {
   "cell_type": "code",
   "execution_count": 3,
   "metadata": {
    "collapsed": false
   },
   "outputs": [
    {
     "name": "stdout",
     "output_type": "stream",
     "text": [
      "Overwriting comp_utils.py\n"
     ]
    }
   ],
   "source": [
    "%%writefile comp_utils.py\n",
    "\n",
    "from __future__ import print_function\n",
    "\n",
    "import contextlib2\n",
    "import sys\n",
    "import os\n",
    "import time\n",
    "import functools\n",
    "\n",
    "from colorama import init\n",
    "\n",
    "try:\n",
    "    \n",
    "    from termcolor import colored\n",
    "\n",
    "    # use Colorama to make Termcolor work on Windows too\n",
    "    init()\n",
    "except:\n",
    "    def colored(cmd, fg, bg):\n",
    "        print(\"No module named colored\")\n",
    "        return cmd\n",
    "\n",
    "@contextlib2.contextmanager\n",
    "def redirect_stdout(stream):\n",
    "    old_stdout, sys.stdout = sys.stdout, stream\n",
    "    try:\n",
    "        yield\n",
    "    finally:\n",
    "        sys.stdout = old_stdout\n",
    "\n",
    "\n",
    "@contextlib2.contextmanager       \n",
    "def cd(name):\n",
    "    current_dir = os.getcwd()\n",
    "    print(name)\n",
    "    if os.path.isdir(name):\n",
    "        print(\"Dir\")\n",
    "        nam = name\n",
    "    elif os.path.isfile(name):\n",
    "        nam = os.path.dirname(os.path.abspath(name))\n",
    "    else:\n",
    "        raise IOError()\n",
    "    os.chdir(nam)\n",
    "    yield \n",
    "    os.chdir(current_dir)\n",
    "\n",
    "\n",
    "def echo(cmd, colorfg=None, colorbg=None):\n",
    "    print(colored(cmd, colorfg, colorbg))\n",
    "\n",
    "\n",
    "def echo_header(cmd):\n",
    "    echo(\"----------{0}----------\".format(cmd))\n",
    "\n",
    "\n",
    "def clockit(fn):\n",
    "    '''Timeit function like this doesnot work with the thread calls'''\n",
    "    @functools.wraps(fn)\n",
    "    def wrapper(*args,**kwargs):\n",
    "        echo_header(\"Starting %s\" % fn.__name__)\n",
    "        start = time.clock()\n",
    "        result = fn(*args,**kwargs)\n",
    "        end = time.clock()\n",
    "        echo_header('Time Elapsed :%s: %.3f seconds' %( fn.__name__, round(end-start,3)))\n",
    "        return result\n",
    "    return wrapper\n",
    "\n"
   ]
  },
  {
   "cell_type": "code",
   "execution_count": 4,
   "metadata": {
    "collapsed": false
   },
   "outputs": [
    {
     "name": "stdout",
     "output_type": "stream",
     "text": [
      "Hello\n",
      "Getting Output\n",
      "Hello3/\n",
      "\n",
      "----------Starting ec----------\u001b[0m\n",
      "SSS\n",
      "----------Time Elapsed :ec: 0.000 seconds----------\u001b[0m\n"
     ]
    }
   ],
   "source": [
    "## Testing comp_utils\n",
    "\n",
    "from __future__ import print_function\n",
    "\n",
    "#Testing\n",
    "import comp_utils\n",
    "from comp_utils import redirect_stdout, clockit, cd, echo\n",
    "\n",
    "try:\n",
    "    from StringIO import StringIO\n",
    "except:\n",
    "    from io import StringIO\n",
    "\n",
    "output = StringIO()\n",
    "output.write(u\"Hello\")\n",
    "print(output.getvalue())\n",
    "output.close()\n",
    "\n",
    "\n",
    "def test():\n",
    "    output2 = StringIO()\n",
    "    with redirect_stdout(output2):\n",
    "        print(\"Hello3/\")\n",
    "    print(\"Getting Output\")\n",
    "    print(output2.getvalue())\n",
    "test()\n",
    "\n",
    "\n",
    "@clockit\n",
    "def ec(sd):\n",
    "    print(sd)\n",
    "\n",
    "ec(\"SSS\")"
   ]
  },
  {
   "cell_type": "code",
   "execution_count": 5,
   "metadata": {
    "collapsed": false
   },
   "outputs": [
    {
     "name": "stdout",
     "output_type": "stream",
     "text": [
      "Overwriting compiler_ipy.py\n"
     ]
    }
   ],
   "source": [
    "%%writefile compiler_ipy.py\n",
    "\n",
    "from __future__ import print_function\n",
    "from comp_utils import redirect_stdout, clockit, cd, echo\n",
    "from IPython.core.magic import register_line_magic, register_cell_magic\n",
    "from contextlib2 import closing\n",
    "try:\n",
    "    from StringIO import StringIO\n",
    "except:\n",
    "    from io import StringIO\n",
    "    \n",
    "import os\n",
    "\n",
    "ip = get_ipython()\n",
    "\n",
    "CSC = \"csc\"\n",
    "#CSC_path = \"C:\\Windows\\Microsoft.NET\\Framework\\v4.0.30319\\csc.exe\"\n",
    "\n",
    "@register_line_magic\n",
    "@clockit\n",
    "def cscexy(csfile):\n",
    "    \n",
    "    executable = os.path.splitext(os.path.basename(csfile))[0] + '.exe'\n",
    "    echo(\"Building executable\", \"red\")\n",
    "    command = CSC + \" \" + str(csfile)\n",
    "    echo(\">>\" + command, \"red\")\n",
    "    ip.system(command)\n",
    "    echo(\"Running executable\", \"red\")\n",
    "    echo(\">>\" + executable, \"red\")\n",
    "    with closing(StringIO()) as output:\n",
    "        with redirect_stdout(output):\n",
    "            ip.system(executable)\n",
    "        echo('\\n'+output.getvalue() , \"blue\" )\n",
    "        \n",
    "@register_cell_magic\n",
    "def cscexy(csfile, cell):\n",
    "    ip.run_cell_magic('writefile', csfile, cell)\n",
    "    ip.run_line_magic('cscexy', csfile)\n",
    "        \n",
    "#cscexy(None)"
   ]
  },
  {
   "cell_type": "code",
   "execution_count": 6,
   "metadata": {
    "collapsed": true
   },
   "outputs": [],
   "source": [
    "%run compiler_ipy.py"
   ]
  },
  {
   "cell_type": "markdown",
   "metadata": {},
   "source": [
    "#SetUp Compiler Path for C# #"
   ]
  },
  {
   "cell_type": "code",
   "execution_count": 8,
   "metadata": {
    "collapsed": false
   },
   "outputs": [
    {
     "name": "stdout",
     "output_type": "stream",
     "text": [
      "Overwriting hello_world.cs\n"
     ]
    }
   ],
   "source": [
    "%%writefile hello_world.cs\n",
    "public class Hello1\n",
    "{\n",
    "    public static void Main()\n",
    "    {\n",
    "        System.Console.WriteLine(\"Hello, World from c#1:::\");\n",
    "    }\n",
    "}"
   ]
  },
  {
   "cell_type": "code",
   "execution_count": 9,
   "metadata": {
    "collapsed": false
   },
   "outputs": [
    {
     "name": "stdout",
     "output_type": "stream",
     "text": [
      "----------Starting cscexy----------\u001b[0m\n",
      "\u001b[31mBuilding executable\u001b[0m\n",
      "\u001b[31m>>csc hello_world.cs\u001b[0m\n",
      "Microsoft (R) Visual C# Compiler version 4.6.0057.0\n",
      "\n",
      "for Microsoft (R) .NET Framework 4.5\n",
      "Copyright (C) Microsoft Corporation. All rights reserved.\n",
      "\n",
      "\u001b[31mRunning executable\u001b[0m\n",
      "\u001b[31m>>hello_world.exe\u001b[0m\n",
      "\u001b[34m\n",
      "Hello, World from c#1:::\n",
      "\u001b[0m\n",
      "----------Time Elapsed :cscexy: 2.330 seconds----------\u001b[0m\n"
     ]
    }
   ],
   "source": [
    "%cscexy hello_world.cs"
   ]
  },
  {
   "cell_type": "code",
   "execution_count": 10,
   "metadata": {
    "collapsed": false
   },
   "outputs": [
    {
     "name": "stdout",
     "output_type": "stream",
     "text": [
      "Hello, World from c#1:::\n"
     ]
    }
   ],
   "source": [
    "!hello_world.exe"
   ]
  },
  {
   "cell_type": "code",
   "execution_count": 12,
   "metadata": {
    "collapsed": false
   },
   "outputs": [
    {
     "name": "stdout",
     "output_type": "stream",
     "text": [
      "Overwriting hello_world2.cs\n",
      "----------Starting cscexy----------\u001b[0m\n",
      "\u001b[31mBuilding executable\u001b[0m\n",
      "\u001b[31m>>csc hello_world2.cs\u001b[0m\n",
      "Microsoft (R) Visual C# Compiler version 4.6.0057.0\n",
      "\n",
      "for Microsoft (R) .NET Framework 4.5\n",
      "Copyright (C) Microsoft Corporation. All rights reserved.\n",
      "\n",
      "\u001b[31mRunning executable\u001b[0m\n",
      "\u001b[31m>>hello_world2.exe\u001b[0m\n",
      "\u001b[34m\n",
      "Hello, World from direct C#2\n",
      "\u001b[0m\n",
      "----------Time Elapsed :cscexy: 1.383 seconds----------\u001b[0m\n"
     ]
    }
   ],
   "source": [
    "%%cscexy hello_world2.cs\n",
    "public class Hello1\n",
    "{\n",
    "    public static void Main()\n",
    "    {\n",
    "        System.Console.WriteLine(\"Hello, World from direct C#2\");\n",
    "    }\n",
    "}"
   ]
  },
  {
   "cell_type": "code",
   "execution_count": 13,
   "metadata": {
    "collapsed": false
   },
   "outputs": [
    {
     "name": "stdout",
     "output_type": "stream",
     "text": [
      "Overwriting hello_world3.cs\n",
      "----------Starting cscexy----------\u001b[0m\n",
      "\u001b[31mBuilding executable\u001b[0m\n",
      "\u001b[31m>>csc hello_world3.cs\u001b[0m\n",
      "Microsoft (R) Visual C# Compiler version 4.6.0057.0\n",
      "\n",
      "for Microsoft (R) .NET Framework 4.5\n",
      "Copyright (C) Microsoft Corporation. All rights reserved.\n",
      "\n",
      "\u001b[31mRunning executable\u001b[0m\n",
      "\u001b[31m>>hello_world3.exe\u001b[0m\n",
      "\u001b[34m\n",
      "Hello, World from direct C#3\n",
      "\u001b[0m\n",
      "----------Time Elapsed :cscexy: 1.239 seconds----------\u001b[0m\n"
     ]
    }
   ],
   "source": [
    "%%cscexy hello_world3.cs\n",
    "public class Hello1\n",
    "{\n",
    "    public static void Main()\n",
    "    {\n",
    "        System.Console.WriteLine(\"Hello, World from direct C#3\");\n",
    "    }\n",
    "}"
   ]
  },
  {
   "cell_type": "code",
   "execution_count": null,
   "metadata": {
    "collapsed": true
   },
   "outputs": [],
   "source": []
  }
 ],
 "metadata": {
  "kernelspec": {
   "display_name": "Python 2",
   "language": "python",
   "name": "python2"
  },
  "language_info": {
   "codemirror_mode": {
    "name": "ipython",
    "version": 2
   },
   "file_extension": ".py",
   "mimetype": "text/x-python",
   "name": "python",
   "nbconvert_exporter": "python",
   "pygments_lexer": "ipython2",
   "version": "2.7.9"
  }
 },
 "nbformat": 4,
 "nbformat_minor": 0
}
