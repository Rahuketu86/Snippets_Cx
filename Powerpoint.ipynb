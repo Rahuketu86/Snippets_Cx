{
 "metadata": {
  "name": "",
  "signature": "sha256:4678752b434fe1cda7c461ac606ed11634e1fa0d2904c1e7045979d8553588fb"
 },
 "nbformat": 3,
 "nbformat_minor": 0,
 "worksheets": [
  {
   "cells": [
    {
     "cell_type": "code",
     "collapsed": false,
     "input": [
      "import win32com.client\n",
      "\n",
      "Application = win32com.client.Dispatch(\"Powerpoint.Application\")\n",
      "Application"
     ],
     "language": "python",
     "metadata": {},
     "outputs": [],
     "prompt_number": 4
    },
    {
     "cell_type": "code",
     "collapsed": false,
     "input": [],
     "language": "python",
     "metadata": {},
     "outputs": []
    }
   ],
   "metadata": {}
  }
 ]
}