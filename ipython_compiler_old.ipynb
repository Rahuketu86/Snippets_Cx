{
 "cells": [
  {
   "cell_type": "code",
   "execution_count": 1,
   "metadata": {
    "collapsed": false
   },
   "outputs": [
    {
     "data": {
      "text/plain": [
       "u'C:\\\\rahuketu\\\\programming\\\\Learning_C'"
      ]
     },
     "execution_count": 1,
     "metadata": {},
     "output_type": "execute_result"
    }
   ],
   "source": [
    "pwd"
   ]
  },
  {
   "cell_type": "code",
   "execution_count": 4,
   "metadata": {
    "collapsed": false
   },
   "outputs": [
    {
     "name": "stdout",
     "output_type": "stream",
     "text": [
      "Overwriting ipy_compiler.py\n"
     ]
    }
   ],
   "source": [
    "%%writefile ipy_compiler.py\n",
    "\n",
    "import subprocess\n",
    "import os\n",
    "import functools\n",
    "import time\n",
    "import contextlib2\n",
    "import StringIO\n",
    "import sys\n",
    "\n",
    "from IPython.core.magic import register_line_magic, register_cell_magic\n",
    "from IPython.display import display_html, HTML\n",
    "from contextlib import contextmanager\n",
    "\n",
    "from colorama import init\n",
    "from termcolor import colored\n",
    "\n",
    "# use Colorama to make Termcolor work on Windows too\n",
    "init()\n",
    "\n",
    "ip = get_ipython()\n",
    "\n",
    "CC = \"gcc\"\n",
    "CFLAGS = \"-Wall -g -std=c1x\"\n",
    "CPATH = '\"C:\\Program Files (x86)\\Microsoft Visual Studio 12.0\\VC\\include\"'\n",
    "CPATH = 'C:\\\\Anaconda\\\\MinGW\\\\x86_64-w64-mingw32\\\\include'\n",
    "include_cpath = False\n",
    "\n",
    "def display_command(cmd, colorfg=\"red\", colorbg=None):\n",
    "    print colored(cmd, colorfg, colorbg)\n",
    "\n",
    "def display_ss(s):\n",
    "    display_command(\"------%s-----\" % s.upper(), colorfg=\"white\")\n",
    "    \n",
    "class Shout(object):\n",
    "    def __init__(self, text):\n",
    "        self.text = text\n",
    "\n",
    "    def _repr_html_(self):\n",
    "        return \"<h1>\" + self.text + \"</h1>\"\n",
    "\n",
    "@contextmanager\n",
    "def stdout_redirector(stream):\n",
    "    old_stdout = sys.stdout\n",
    "    sys.stdout = stream\n",
    "    try:\n",
    "        yield\n",
    "    finally:\n",
    "        sys.stdout = old_stdout\n",
    "\n",
    "def clockit(fn):\n",
    "    '''Timeit function like this doesnot work with the thread calls'''\n",
    "    @functools.wraps(fn)\n",
    "    def wrapper(*args,**kwargs):\n",
    "        display_ss(\"Starting %s\" % fn.__name__)\n",
    "        start = time.clock()\n",
    "        result = fn(*args,**kwargs)\n",
    "        end = time.clock()\n",
    "        display_ss('Time Elapsed :%s: %.3f seconds' %( fn.__name__, round(end-start,3)))\n",
    "        return result\n",
    "    return wrapper\n",
    "\n",
    "@contextlib2.contextmanager\n",
    "def cd(name):\n",
    "    current_dir = os.getcwd()\n",
    "    if os.path.isdir(name):\n",
    "        nam = name\n",
    "    elif os.path.isfile(name):\n",
    "        nam = os.path.dirname(os.path.abspath(name))\n",
    "    else:\n",
    "        raise IOError()\n",
    "    os.chdir(nam)\n",
    "    yield \n",
    "    os.chdir(current_dir)\n",
    "\n",
    "@register_line_magic\n",
    "@clockit\n",
    "def cexy(cfile, *args):\n",
    "    display_command(\"GGGG\")\n",
    "    with cd(cfile):\n",
    "        name = os.path.basename(cfile)\n",
    "        __name__ = name\n",
    "        \n",
    "        root = os.path.splitext(cfile)[0]\n",
    "        executable = root + \".exe\"\n",
    "        if os.path.exists(executable):\n",
    "            display_command(\"Removing Pre-existing %s \" % executable)\n",
    "            os.remove(executable)\n",
    "        if include_cpath:\n",
    "            runcommand = \" \".join([CC, CFLAGS, cfile, \"-o\", root, \"-I\", CPATH])\n",
    "        else:\n",
    "            runcommand = \" \".join([CC, CFLAGS, cfile, \"-o\", root])\n",
    "    #    runcommand = [\"gfortran\", \"--help\"]\n",
    "        display_command(\"Building executable...\\n >>%s\" % runcommand)\n",
    "        ip.system(runcommand)\n",
    "        display_command(\"Executing...\\n >>%s\" % executable)\n",
    "        output = StringIO.StringIO()\n",
    "        with stdout_redirector(output):\n",
    "            ip.system(executable)\n",
    "        display_command(\"\\nGETTING OUTPUT\\n======================================\\n\", \"blue\")\n",
    "        # then use Termcolor for all colored text output\n",
    "        display_command(output.getvalue(), 'blue')\n",
    "#        print \"\\x1b[31m\\\"{0}\\\"\\x1b[0m\".format(output.getvalue())\n",
    "\n",
    "@register_cell_magic\n",
    "def cexy(cfile, cell):\n",
    "    ip.run_cell_magic('writefile', cfile, cell)\n",
    "    ip.run_line_magic('cexy', cfile)\n",
    "    \n",
    "\"\"\"\n",
    "@register_line_magic\n",
    "@clockit\n",
    "def exfort(fortfile):\n",
    "#    executable = ip.run_line_magic('makefort', fortfile)\n",
    "    exeucutable = makefort(fortfile)\n",
    "    print \"Executable is : \" + executable\n",
    "    print \"Running executable...\\n >>%s\" % executable\n",
    "    ip.system(executable)\n",
    "    \n",
    "@register_cell_magic\n",
    "@clockit\n",
    "def mxfort(fortfile, cell):\n",
    "    ip.run_cell_magic('file', fortfile, cell)\n",
    "    ip.run_line_magic('exfort', fortfile)\n",
    "    \n",
    "@register_cell_magic\n",
    "@clockit\n",
    "def mbfort(fortfile, cell):\n",
    "    ip.run_cell_magic('file', fortfile, cell)\n",
    "    ip.run_line_magic('makefort', fortfile)\n",
    "\"\"\"\n",
    "\n",
    "with cd(os.getcwd()):\n",
    "    print CC, include_cpath"
   ]
  },
  {
   "cell_type": "code",
   "execution_count": 3,
   "metadata": {
    "collapsed": false
   },
   "outputs": [
    {
     "data": {
      "text/plain": [
       "('n_line_magic', ' ', \"'makefort', fortfile)\")"
      ]
     },
     "execution_count": 3,
     "metadata": {},
     "output_type": "execute_result"
    }
   ],
   "source": [
    "s = \"n_line_magic 'makefort', fortfile)\"\n",
    "s.partition(' ')"
   ]
  },
  {
   "cell_type": "code",
   "execution_count": null,
   "metadata": {
    "collapsed": true
   },
   "outputs": [],
   "source": []
  }
 ],
 "metadata": {
  "kernelspec": {
   "display_name": "Python 2",
   "language": "python",
   "name": "python2"
  },
  "language_info": {
   "codemirror_mode": {
    "name": "ipython",
    "version": 2
   },
   "file_extension": ".py",
   "mimetype": "text/x-python",
   "name": "python",
   "nbconvert_exporter": "python",
   "pygments_lexer": "ipython2",
   "version": "2.7.9"
  }
 },
 "nbformat": 4,
 "nbformat_minor": 0
}
