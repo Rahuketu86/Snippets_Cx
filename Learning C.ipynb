{
 "cells": [
  {
   "cell_type": "code",
   "execution_count": 1,
   "metadata": {
    "collapsed": false
   },
   "outputs": [
    {
     "data": {
      "text/plain": [
       "u'C:\\\\rahuketu\\\\programming\\\\Learning_C'"
      ]
     },
     "execution_count": 1,
     "metadata": {},
     "output_type": "execute_result"
    }
   ],
   "source": [
    "pwd"
   ]
  },
  {
   "cell_type": "code",
   "execution_count": 5,
   "metadata": {
    "collapsed": false
   },
   "outputs": [
    {
     "ename": "ImportError",
     "evalue": "No module named contextlib2",
     "output_type": "error",
     "traceback": [
      "\u001b[1;31m---------------------------------------------------------------------------\u001b[0m",
      "\u001b[1;31mImportError\u001b[0m                               Traceback (most recent call last)",
      "\u001b[1;32m<ipython-input-5-e349c5588764>\u001b[0m in \u001b[0;36m<module>\u001b[1;34m()\u001b[0m\n\u001b[0;32m      5\u001b[0m \u001b[1;32mimport\u001b[0m \u001b[0mfunctools\u001b[0m\u001b[1;33m\u001b[0m\u001b[0m\n\u001b[0;32m      6\u001b[0m \u001b[1;32mimport\u001b[0m \u001b[0mtime\u001b[0m\u001b[1;33m\u001b[0m\u001b[0m\n\u001b[1;32m----> 7\u001b[1;33m \u001b[1;32mimport\u001b[0m \u001b[0mcontextlib2\u001b[0m\u001b[1;33m\u001b[0m\u001b[0m\n\u001b[0m\u001b[0;32m      8\u001b[0m \u001b[1;32mimport\u001b[0m \u001b[0mStringIO\u001b[0m\u001b[1;33m\u001b[0m\u001b[0m\n\u001b[0;32m      9\u001b[0m \u001b[1;32mimport\u001b[0m \u001b[0msys\u001b[0m\u001b[1;33m\u001b[0m\u001b[0m\n",
      "\u001b[1;31mImportError\u001b[0m: No module named contextlib2"
     ]
    }
   ],
   "source": [
    "#%%writefile ipy_compiler.py\n",
    "\n",
    "import subprocess\n",
    "import os\n",
    "import functools\n",
    "import time\n",
    "import contextlib2\n",
    "import StringIO\n",
    "import sys\n",
    "\n",
    "from IPython.core.magic import register_line_magic, register_cell_magic\n",
    "from IPython.display import display_html, HTML\n",
    "from contextlib import contextmanager\n",
    "\n",
    "from colorama import init\n",
    "from termcolor import colored\n",
    "\n",
    "# use Colorama to make Termcolor work on Windows too\n",
    "init()\n",
    "\n",
    "ip = get_ipython()\n",
    "\n",
    "CC = \"gcc\"\n",
    "CFLAGS = \"-Wall -g -std=c1x\"\n",
    "CPATH = '\"C:\\Program Files (x86)\\Microsoft Visual Studio 12.0\\VC\\include\"'\n",
    "CPATH = 'C:\\\\Anaconda\\\\MinGW\\\\x86_64-w64-mingw32\\\\include'\n",
    "include_cpath = False\n",
    "\n",
    "def display_command(cmd, colorfg=\"red\", colorbg=None):\n",
    "    print colored(cmd, colorfg, colorbg)\n",
    "\n",
    "def display_ss(s):\n",
    "    display_command(\"------%s-----\" % s.upper(), colorfg=\"white\")\n",
    "    \n",
    "class Shout(object):\n",
    "    def __init__(self, text):\n",
    "        self.text = text\n",
    "\n",
    "    def _repr_html_(self):\n",
    "        return \"<h1>\" + self.text + \"</h1>\"\n",
    "\n",
    "@contextmanager\n",
    "def stdout_redirector(stream):\n",
    "    old_stdout = sys.stdout\n",
    "    sys.stdout = stream\n",
    "    try:\n",
    "        yield\n",
    "    finally:\n",
    "        sys.stdout = old_stdout\n",
    "\n",
    "def clockit(fn):\n",
    "    '''Timeit function like this doesnot work with the thread calls'''\n",
    "    @functools.wraps(fn)\n",
    "    def wrapper(*args,**kwargs):\n",
    "        display_ss(\"Starting %s\" % fn.__name__)\n",
    "        start = time.clock()\n",
    "        result = fn(*args,**kwargs)\n",
    "        end = time.clock()\n",
    "        display_ss('Time Elapsed :%s: %.3f seconds' %( fn.__name__, round(end-start,3)))\n",
    "        return result\n",
    "    return wrapper\n",
    "\n",
    "@contextlib2.contextmanager\n",
    "def cd(name):\n",
    "    current_dir = os.getcwd()\n",
    "    if os.path.isdir(name):\n",
    "        nam = name\n",
    "    elif os.path.isfile(name):\n",
    "        nam = os.path.dirname(os.path.abspath(name))\n",
    "    else:\n",
    "        raise IOError()\n",
    "    os.chdir(nam)\n",
    "    yield \n",
    "    os.chdir(current_dir)\n",
    "\n",
    "@register_line_magic\n",
    "@clockit\n",
    "def cexy(cfile):\n",
    "    with cd(cfile):\n",
    "        name = os.path.basename(cfile)\n",
    "        __name__ = name\n",
    "        \n",
    "        root = os.path.splitext(cfile)[0]\n",
    "        executable = root + \".exe\"\n",
    "        if os.path.exists(executable):\n",
    "            display_command(\"Removing Pre-existing %s \" % executable)\n",
    "            os.remove(executable)\n",
    "        if include_cpath:\n",
    "            runcommand = \" \".join([CC, CFLAGS, cfile, \"-o\", root, \"-I\", CPATH])\n",
    "        else:\n",
    "            runcommand = \" \".join([CC, CFLAGS, cfile, \"-o\", root])\n",
    "    #    runcommand = [\"gfortran\", \"--help\"]\n",
    "        display_command(\"Building executable...\\n >>%s\" % runcommand)\n",
    "        ip.system(runcommand)\n",
    "        display_command(\"Executing...\\n >>%s\" % executable)\n",
    "        output = StringIO.StringIO()\n",
    "        with stdout_redirector(output):\n",
    "            ip.system(executable)\n",
    "        display_command(\"\\nGETTING OUTPUT\\n======================================\\n\", \"blue\")\n",
    "        # then use Termcolor for all colored text output\n",
    "        display_command(output.getvalue(), 'blue')\n",
    "#        print \"\\x1b[31m\\\"{0}\\\"\\x1b[0m\".format(output.getvalue())\n",
    "\n",
    "@register_cell_magic\n",
    "def cexy(cfile, cell):\n",
    "    ip.run_cell_magic('writefile', cfile, cell)\n",
    "    ip.run_line_magic('cexy', cfile)\n",
    "    \n",
    "\"\"\"\n",
    "@register_line_magic\n",
    "@clockit\n",
    "def exfort(fortfile):\n",
    "#    executable = ip.run_line_magic('makefort', fortfile)\n",
    "    exeucutable = makefort(fortfile)\n",
    "    print \"Executable is : \" + executable\n",
    "    print \"Running executable...\\n >>%s\" % executable\n",
    "    ip.system(executable)\n",
    "    \n",
    "@register_cell_magic\n",
    "@clockit\n",
    "def mxfort(fortfile, cell):\n",
    "    ip.run_cell_magic('file', fortfile, cell)\n",
    "    ip.run_line_magic('exfort', fortfile)\n",
    "    \n",
    "@register_cell_magic\n",
    "@clockit\n",
    "def mbfort(fortfile, cell):\n",
    "    ip.run_cell_magic('file', fortfile, cell)\n",
    "    ip.run_line_magic('makefort', fortfile)\n",
    "\"\"\"\n",
    "\n",
    "with cd(os.getcwd()):\n",
    "    print CC, include_cpath\n"
   ]
  },
  {
   "cell_type": "code",
   "execution_count": 39,
   "metadata": {
    "collapsed": false
   },
   "outputs": [
    {
     "name": "stdout",
     "output_type": "stream",
     "text": [
      "Overwriting hello.c\n"
     ]
    }
   ],
   "source": [
    "%%writefile hello.c\n",
    "#include <stdio.h>\n",
    "#include <stdlib.h>\n",
    "\n",
    "\n",
    "typedef struct{\n",
    "    float x;\n",
    "    float y;\n",
    "} point;\n",
    "\n",
    "int main(int argc, char **argv)\n",
    "{\n",
    "    point p;\n",
    "    p.x = 0.2;\n",
    "    p.y = 10.0;\n",
    "\n",
    "    puts(\"Hello World!\");\n",
    "    puts(\"Hello World2!\");\n",
    "    return 0;\n",
    "}"
   ]
  },
  {
   "cell_type": "code",
   "execution_count": null,
   "metadata": {
    "collapsed": false
   },
   "outputs": [],
   "source": [
    "!gcc -std=c99 -Wall -c hello.c\n",
    "!gcc hello.o -o  hello"
   ]
  },
  {
   "cell_type": "code",
   "execution_count": 21,
   "metadata": {
    "collapsed": false
   },
   "outputs": [
    {
     "name": "stdout",
     "output_type": "stream",
     "text": [
      "Hello World!\n"
     ]
    }
   ],
   "source": [
    "!hello.exe"
   ]
  },
  {
   "cell_type": "code",
   "execution_count": 11,
   "metadata": {
    "collapsed": false
   },
   "outputs": [],
   "source": [
    "!gcc -std=c99 -Wall hello.c -o hello"
   ]
  },
  {
   "cell_type": "code",
   "execution_count": 12,
   "metadata": {
    "collapsed": false
   },
   "outputs": [
    {
     "name": "stdout",
     "output_type": "stream",
     "text": [
      "Hello World!\n"
     ]
    }
   ],
   "source": [
    "!hello.exe"
   ]
  },
  {
   "cell_type": "code",
   "execution_count": 83,
   "metadata": {
    "collapsed": false
   },
   "outputs": [
    {
     "name": "stdout",
     "output_type": "stream",
     "text": [
      "\u001b[37m------STARTING CEXY-----\u001b[0m\n",
      "\u001b[31mRemoving Pre-existing hello.exe \u001b[0m\n",
      "\u001b[31mBuilding executable...\n",
      " >>gcc -Wall -g -std=c1x hello.c -o hello\u001b[0m\n"
     ]
    },
    {
     "name": "stderr",
     "output_type": "stream",
     "text": [
      "hello.c: In function 'main':\n",
      "hello.c:12:11: warning: variable 'p' set but not used [-Wunused-but-set-variable]\n"
     ]
    },
    {
     "name": "stdout",
     "output_type": "stream",
     "text": [
      "\u001b[31mExecuting...\n",
      " >>hello.exe\u001b[0m\n",
      "\u001b[34m\n",
      "GETTING OUTPUT\n",
      "======================================\n",
      "\u001b[0m\n",
      "\u001b[34mHello World!\n",
      "Hello World2!\n",
      "\u001b[0m\n",
      "\u001b[37m------TIME ELAPSED :CEXY: 0.661 SECONDS-----\u001b[0m\n"
     ]
    }
   ],
   "source": [
    "%cexy hello.c"
   ]
  },
  {
   "cell_type": "code",
   "execution_count": 76,
   "metadata": {
    "collapsed": false
   },
   "outputs": [
    {
     "name": "stdout",
     "output_type": "stream",
     "text": [
      "Overwriting prompt.c\n"
     ]
    }
   ],
   "source": [
    "%%writefile prompt.c\n",
    "\n",
    "#include <stdio.h>\n",
    "#include <stdlib.h>\n",
    "\n",
    "/* If we are compiling on Windows compile these functions */\n",
    "#ifdef _WIN32\n",
    "\n",
    "#include <string.h>\n",
    "\n",
    "static char buffer[2048];\n",
    "\n",
    "/* Fake readline function */\n",
    "char* readline(char* prompt) {p\n",
    "  fputs(prompt, stdout);\n",
    "  fgets(buffer, 2048, stdin);\n",
    "  char* cpy = malloc(strlen(buffer)+1);\n",
    "  strcpy(cpy, buffer);\n",
    "  cpy[strlen(cpy)-1] = '\\0';\n",
    "  return cpy;\n",
    "}\n",
    "\n",
    "/* Fake add_history function */\n",
    "void add_history(char* unused) {}\n",
    "\n",
    "/* Otherwise include the editline headers */\n",
    "#else\n",
    "\n",
    "#include <editline/readline.h>\n",
    "#include <editline/history.h>\n",
    "\n",
    "#endif\n",
    "\n",
    "int main(int argc, char** argv) {\n",
    "   \n",
    "  puts(\"Lispy Version 0.0.0.0.1\");\n",
    "  puts(\"Press Ctrl+c to Exit\\n\");\n",
    "   \n",
    "  while (1) {\n",
    "    \n",
    "    /* Now in either case readline will be correctly defined */\n",
    "    char* input = readline(\"lispy> \");\n",
    "    add_history(input);\n",
    "\n",
    "    printf(\"No you're a %s\\n\", input);\n",
    "    free(input);\n",
    "    \n",
    "  }\n",
    "  \n",
    "  return 0;\n",
    "}"
   ]
  },
  {
   "cell_type": "code",
   "execution_count": null,
   "metadata": {
    "collapsed": false
   },
   "outputs": [],
   "source": [
    "%cexy prompt.c"
   ]
  },
  {
   "cell_type": "markdown",
   "metadata": {
    "collapsed": false
   },
   "source": [
    "# Pointer Demo"
   ]
  },
  {
   "cell_type": "code",
   "execution_count": 52,
   "metadata": {
    "collapsed": false
   },
   "outputs": [
    {
     "name": "stdout",
     "output_type": "stream",
     "text": [
      "Overwriting pointer_exam.c\n"
     ]
    }
   ],
   "source": [
    "%%writefile pointer_exam.c\n",
    "\n",
    "#include <stdio.h>\n",
    "\n",
    "int main()\n",
    "{\n",
    "    int var = 20; /* actual variable declaraton */\n",
    "    int *ip;\n",
    "    ip = &var;\n",
    "    \n",
    "    printf(\"Address of var variable: %x\\n\", &var); \n",
    "    printf(\"Address referral by using pointer ip %x\\n\", ip);\n",
    "    printf(\"Value using *ip::%d\\n\", *ip);\n",
    "    return 0;\n",
    "}"
   ]
  },
  {
   "cell_type": "markdown",
   "metadata": {
    "collapsed": false
   },
   "source": [
    "%cexy pointer_exam.c"
   ]
  },
  {
   "cell_type": "code",
   "execution_count": 3,
   "metadata": {
    "collapsed": false
   },
   "outputs": [
    {
     "name": "stderr",
     "output_type": "stream",
     "text": [
      "ERROR: Cell magic `%%cexy` not found.\n"
     ]
    }
   ],
   "source": [
    "%%cexy pointer_exam2.c\n",
    "\n",
    "#include <stdio.h>\n",
    "\n",
    "int main()\n",
    "{\n",
    "    int var = 20; /* actual variable declaraton */\n",
    "    int *ip;\n",
    "    ip = &var;\n",
    "    \n",
    "    printf(\"Address of var variable: %x\\n\", &var); \n",
    "    printf(\"Address referral by using pointer ip %x\\n\", ip);\n",
    "    printf(\"Value using *ip::%d\\n\", *ip);\n",
    "    return 0;\n",
    "}"
   ]
  },
  {
   "cell_type": "markdown",
   "metadata": {
    "collapsed": true
   },
   "source": [
    "# flmoon :: moon phase cycle algorithm"
   ]
  },
  {
   "cell_type": "code",
   "execution_count": null,
   "metadata": {
    "collapsed": true
   },
   "outputs": [],
   "source": [
    "%%cexy flmoon.c\n",
    "\n",
    "#include <math.h>\n",
    "#define RAD (3.14159265/180.0)\n",
    "\n",
    "void flmoon(int n, int nph, long *jd, float *frac)\n",
    "{\n",
    "    \n",
    "}"
   ]
  }
 ],
 "metadata": {
  "kernelspec": {
   "display_name": "Python 2",
   "language": "python",
   "name": "python2"
  },
  "language_info": {
   "codemirror_mode": {
    "name": "ipython",
    "version": 2
   },
   "file_extension": ".py",
   "mimetype": "text/x-python",
   "name": "python",
   "nbconvert_exporter": "python",
   "pygments_lexer": "ipython2",
   "version": "2.7.9"
  }
 },
 "nbformat": 4,
 "nbformat_minor": 0
}
